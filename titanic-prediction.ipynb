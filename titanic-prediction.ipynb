{
 "cells": [
  {
   "cell_type": "code",
   "execution_count": 1,
   "metadata": {
    "_cell_guid": "b1076dfc-b9ad-4769-8c92-a6c4dae69d19",
    "_kg_hide-input": true,
    "_kg_hide-output": true,
    "_uuid": "8f2839f25d086af736a60e9eeb907d3b93b6e0e5",
    "execution": {
     "iopub.execute_input": "2023-03-16T19:52:04.353131Z",
     "iopub.status.busy": "2023-03-16T19:52:04.352280Z",
     "iopub.status.idle": "2023-03-16T19:52:04.386054Z",
     "shell.execute_reply": "2023-03-16T19:52:04.384654Z",
     "shell.execute_reply.started": "2023-03-16T19:52:04.353020Z"
    }
   },
   "outputs": [],
   "source": [
    "# This Python 3 environment comes with many helpful analytics libraries installed\n",
    "# It is defined by the kaggle/python Docker image: https://github.com/kaggle/docker-python\n",
    "# For example, here's several helpful packages to load\n",
    "\n",
    "import numpy as np # linear algebra\n",
    "import pandas as pd # data processing, CSV file I/O (e.g. pd.read_csv)\n",
    "\n",
    "# Input data files are available in the read-only \"../input/\" directory\n",
    "# For example, running this (by clicking run or pressing Shift+Enter) will list all files under the input directory\n",
    "\n",
    "import os\n",
    "for dirname, _, filenames in os.walk('/kaggle/input'):\n",
    "    for filename in filenames:\n",
    "        print(os.path.join(dirname, filename))\n",
    "\n",
    "# You can write up to 20GB to the current directory (/kaggle/working/) that gets preserved as output when you create a version using \"Save & Run All\" \n",
    "# You can also write temporary files to /kaggle/temp/, but they won't be saved outside of the current session"
   ]
  },
  {
   "cell_type": "markdown",
   "metadata": {
    "execution": {
     "iopub.execute_input": "2023-02-02T07:41:21.974431Z",
     "iopub.status.busy": "2023-02-02T07:41:21.974022Z",
     "iopub.status.idle": "2023-02-02T07:41:21.982391Z",
     "shell.execute_reply": "2023-02-02T07:41:21.980769Z",
     "shell.execute_reply.started": "2023-02-02T07:41:21.974395Z"
    }
   },
   "source": [
    "# Table Of Contents\n",
    "\n",
    "* [EDA](#EDA)\n",
    "* [Feature Engineering](#Feature-Engineering)\n",
    "* [Training and Modeling](#Training-and-Modeling)\n",
    "* [Prediction](#Prediction)"
   ]
  },
  {
   "cell_type": "code",
   "execution_count": 2,
   "metadata": {
    "execution": {
     "iopub.execute_input": "2023-03-16T19:52:04.389401Z",
     "iopub.status.busy": "2023-03-16T19:52:04.388562Z",
     "iopub.status.idle": "2023-03-16T19:52:04.438846Z",
     "shell.execute_reply": "2023-03-16T19:52:04.437487Z",
     "shell.execute_reply.started": "2023-03-16T19:52:04.389355Z"
    }
   },
   "outputs": [],
   "source": [
    "train_df = pd.read_csv('train.csv', index_col=0)\n",
    "test_df = pd.read_csv('test.csv',index_col=0)"
   ]
  },
  {
   "cell_type": "markdown",
   "metadata": {},
   "source": [
    "<a id=\"EDA\"></a>\n",
    "# EDA"
   ]
  },
  {
   "cell_type": "code",
   "execution_count": 3,
   "metadata": {
    "execution": {
     "iopub.execute_input": "2023-03-16T19:52:04.440677Z",
     "iopub.status.busy": "2023-03-16T19:52:04.440324Z",
     "iopub.status.idle": "2023-03-16T19:52:04.464022Z",
     "shell.execute_reply": "2023-03-16T19:52:04.462897Z",
     "shell.execute_reply.started": "2023-03-16T19:52:04.440636Z"
    }
   },
   "outputs": [
    {
     "data": {
      "text/html": [
       "<div>\n",
       "<style scoped>\n",
       "    .dataframe tbody tr th:only-of-type {\n",
       "        vertical-align: middle;\n",
       "    }\n",
       "\n",
       "    .dataframe tbody tr th {\n",
       "        vertical-align: top;\n",
       "    }\n",
       "\n",
       "    .dataframe thead th {\n",
       "        text-align: right;\n",
       "    }\n",
       "</style>\n",
       "<table border=\"1\" class=\"dataframe\">\n",
       "  <thead>\n",
       "    <tr style=\"text-align: right;\">\n",
       "      <th></th>\n",
       "      <th>Survived</th>\n",
       "      <th>Pclass</th>\n",
       "      <th>Name</th>\n",
       "      <th>Sex</th>\n",
       "      <th>Age</th>\n",
       "      <th>SibSp</th>\n",
       "      <th>Parch</th>\n",
       "      <th>Ticket</th>\n",
       "      <th>Fare</th>\n",
       "      <th>Cabin</th>\n",
       "      <th>Embarked</th>\n",
       "    </tr>\n",
       "    <tr>\n",
       "      <th>PassengerId</th>\n",
       "      <th></th>\n",
       "      <th></th>\n",
       "      <th></th>\n",
       "      <th></th>\n",
       "      <th></th>\n",
       "      <th></th>\n",
       "      <th></th>\n",
       "      <th></th>\n",
       "      <th></th>\n",
       "      <th></th>\n",
       "      <th></th>\n",
       "    </tr>\n",
       "  </thead>\n",
       "  <tbody>\n",
       "    <tr>\n",
       "      <th>1</th>\n",
       "      <td>0</td>\n",
       "      <td>3</td>\n",
       "      <td>Braund, Mr. Owen Harris</td>\n",
       "      <td>male</td>\n",
       "      <td>22.0</td>\n",
       "      <td>1</td>\n",
       "      <td>0</td>\n",
       "      <td>A/5 21171</td>\n",
       "      <td>7.2500</td>\n",
       "      <td>NaN</td>\n",
       "      <td>S</td>\n",
       "    </tr>\n",
       "    <tr>\n",
       "      <th>2</th>\n",
       "      <td>1</td>\n",
       "      <td>1</td>\n",
       "      <td>Cumings, Mrs. John Bradley (Florence Briggs Th...</td>\n",
       "      <td>female</td>\n",
       "      <td>38.0</td>\n",
       "      <td>1</td>\n",
       "      <td>0</td>\n",
       "      <td>PC 17599</td>\n",
       "      <td>71.2833</td>\n",
       "      <td>C85</td>\n",
       "      <td>C</td>\n",
       "    </tr>\n",
       "    <tr>\n",
       "      <th>3</th>\n",
       "      <td>1</td>\n",
       "      <td>3</td>\n",
       "      <td>Heikkinen, Miss. Laina</td>\n",
       "      <td>female</td>\n",
       "      <td>26.0</td>\n",
       "      <td>0</td>\n",
       "      <td>0</td>\n",
       "      <td>STON/O2. 3101282</td>\n",
       "      <td>7.9250</td>\n",
       "      <td>NaN</td>\n",
       "      <td>S</td>\n",
       "    </tr>\n",
       "    <tr>\n",
       "      <th>4</th>\n",
       "      <td>1</td>\n",
       "      <td>1</td>\n",
       "      <td>Futrelle, Mrs. Jacques Heath (Lily May Peel)</td>\n",
       "      <td>female</td>\n",
       "      <td>35.0</td>\n",
       "      <td>1</td>\n",
       "      <td>0</td>\n",
       "      <td>113803</td>\n",
       "      <td>53.1000</td>\n",
       "      <td>C123</td>\n",
       "      <td>S</td>\n",
       "    </tr>\n",
       "    <tr>\n",
       "      <th>5</th>\n",
       "      <td>0</td>\n",
       "      <td>3</td>\n",
       "      <td>Allen, Mr. William Henry</td>\n",
       "      <td>male</td>\n",
       "      <td>35.0</td>\n",
       "      <td>0</td>\n",
       "      <td>0</td>\n",
       "      <td>373450</td>\n",
       "      <td>8.0500</td>\n",
       "      <td>NaN</td>\n",
       "      <td>S</td>\n",
       "    </tr>\n",
       "  </tbody>\n",
       "</table>\n",
       "</div>"
      ],
      "text/plain": [
       "             Survived  Pclass  \\\n",
       "PassengerId                     \n",
       "1                   0       3   \n",
       "2                   1       1   \n",
       "3                   1       3   \n",
       "4                   1       1   \n",
       "5                   0       3   \n",
       "\n",
       "                                                          Name     Sex   Age  \\\n",
       "PassengerId                                                                    \n",
       "1                                      Braund, Mr. Owen Harris    male  22.0   \n",
       "2            Cumings, Mrs. John Bradley (Florence Briggs Th...  female  38.0   \n",
       "3                                       Heikkinen, Miss. Laina  female  26.0   \n",
       "4                 Futrelle, Mrs. Jacques Heath (Lily May Peel)  female  35.0   \n",
       "5                                     Allen, Mr. William Henry    male  35.0   \n",
       "\n",
       "             SibSp  Parch            Ticket     Fare Cabin Embarked  \n",
       "PassengerId                                                          \n",
       "1                1      0         A/5 21171   7.2500   NaN        S  \n",
       "2                1      0          PC 17599  71.2833   C85        C  \n",
       "3                0      0  STON/O2. 3101282   7.9250   NaN        S  \n",
       "4                1      0            113803  53.1000  C123        S  \n",
       "5                0      0            373450   8.0500   NaN        S  "
      ]
     },
     "execution_count": 3,
     "metadata": {},
     "output_type": "execute_result"
    }
   ],
   "source": [
    "train_df.head()"
   ]
  },
  {
   "cell_type": "code",
   "execution_count": 4,
   "metadata": {
    "execution": {
     "iopub.execute_input": "2023-03-16T19:52:04.466556Z",
     "iopub.status.busy": "2023-03-16T19:52:04.465999Z",
     "iopub.status.idle": "2023-03-16T19:52:04.484646Z",
     "shell.execute_reply": "2023-03-16T19:52:04.483791Z",
     "shell.execute_reply.started": "2023-03-16T19:52:04.466516Z"
    }
   },
   "outputs": [
    {
     "name": "stdout",
     "output_type": "stream",
     "text": [
      "<class 'pandas.core.frame.DataFrame'>\n",
      "Int64Index: 891 entries, 1 to 891\n",
      "Data columns (total 11 columns):\n",
      " #   Column    Non-Null Count  Dtype  \n",
      "---  ------    --------------  -----  \n",
      " 0   Survived  891 non-null    int64  \n",
      " 1   Pclass    891 non-null    int64  \n",
      " 2   Name      891 non-null    object \n",
      " 3   Sex       891 non-null    object \n",
      " 4   Age       714 non-null    float64\n",
      " 5   SibSp     891 non-null    int64  \n",
      " 6   Parch     891 non-null    int64  \n",
      " 7   Ticket    891 non-null    object \n",
      " 8   Fare      891 non-null    float64\n",
      " 9   Cabin     204 non-null    object \n",
      " 10  Embarked  889 non-null    object \n",
      "dtypes: float64(2), int64(4), object(5)\n",
      "memory usage: 83.5+ KB\n"
     ]
    }
   ],
   "source": [
    "train_df.info()"
   ]
  },
  {
   "cell_type": "code",
   "execution_count": 5,
   "metadata": {
    "execution": {
     "iopub.execute_input": "2023-03-16T19:52:04.486712Z",
     "iopub.status.busy": "2023-03-16T19:52:04.485693Z",
     "iopub.status.idle": "2023-03-16T19:52:05.538729Z",
     "shell.execute_reply": "2023-03-16T19:52:05.537868Z",
     "shell.execute_reply.started": "2023-03-16T19:52:04.486679Z"
    }
   },
   "outputs": [],
   "source": [
    "import seaborn as sns\n",
    "import matplotlib.pyplot as plt"
   ]
  },
  {
   "cell_type": "code",
   "execution_count": 6,
   "metadata": {
    "execution": {
     "iopub.execute_input": "2023-03-16T19:52:05.541606Z",
     "iopub.status.busy": "2023-03-16T19:52:05.540746Z",
     "iopub.status.idle": "2023-03-16T19:52:05.749445Z",
     "shell.execute_reply": "2023-03-16T19:52:05.748131Z",
     "shell.execute_reply.started": "2023-03-16T19:52:05.541560Z"
    }
   },
   "outputs": [
    {
     "data": {
      "text/plain": [
       "<AxesSubplot:xlabel='Survived', ylabel='count'>"
      ]
     },
     "execution_count": 6,
     "metadata": {},
     "output_type": "execute_result"
    },
    {
     "data": {
      "image/png": "[encoded data removed]",
      "text/plain": [
       "<Figure size 432x288 with 1 Axes>"
      ]
     },
     "metadata": {
      "needs_background": "light"
     },
     "output_type": "display_data"
    }
   ],
   "source": [
    "sns.countplot(x='Survived',data=train_df)"
   ]
  },
  {
   "cell_type": "code",
   "execution_count": 7,
   "metadata": {
    "execution": {
     "iopub.execute_input": "2023-03-16T19:52:05.751919Z",
     "iopub.status.busy": "2023-03-16T19:52:05.751444Z",
     "iopub.status.idle": "2023-03-16T19:52:05.950384Z",
     "shell.execute_reply": "2023-03-16T19:52:05.949261Z",
     "shell.execute_reply.started": "2023-03-16T19:52:05.751875Z"
    }
   },
   "outputs": [
    {
     "data": {
      "text/plain": [
       "<AxesSubplot:xlabel='Sex', ylabel='count'>"
      ]
     },
     "execution_count": 7,
     "metadata": {},
     "output_type": "execute_result"
    },
    {
     "data": {
      "image/png": "[encoded data removed]",
      "text/plain": [
       "<Figure size 432x288 with 1 Axes>"
      ]
     },
     "metadata": {
      "needs_background": "light"
     },
     "output_type": "display_data"
    }
   ],
   "source": [
    "sns.countplot(x='Sex', data=train_df, hue='Survived')"
   ]
  },
  {
   "cell_type": "code",
   "execution_count": 8,
   "metadata": {
    "execution": {
     "iopub.execute_input": "2023-03-16T19:52:05.952165Z",
     "iopub.status.busy": "2023-03-16T19:52:05.951717Z",
     "iopub.status.idle": "2023-03-16T19:52:06.172335Z",
     "shell.execute_reply": "2023-03-16T19:52:06.171197Z",
     "shell.execute_reply.started": "2023-03-16T19:52:05.952133Z"
    }
   },
   "outputs": [
    {
     "data": {
      "text/plain": [
       "<AxesSubplot:xlabel='Pclass', ylabel='count'>"
      ]
     },
     "execution_count": 8,
     "metadata": {},
     "output_type": "execute_result"
    },
    {
     "data": {
      "image/png": "[encoded data removed]",
      "text/plain": [
       "<Figure size 432x288 with 1 Axes>"
      ]
     },
     "metadata": {
      "needs_background": "light"
     },
     "output_type": "display_data"
    }
   ],
   "source": [
    "sns.countplot(x='Pclass', data=train_df, hue='Survived')"
   ]
  },
  {
   "cell_type": "code",
   "execution_count": 9,
   "metadata": {
    "execution": {
     "iopub.execute_input": "2023-03-16T19:52:06.177716Z",
     "iopub.status.busy": "2023-03-16T19:52:06.177070Z",
     "iopub.status.idle": "2023-03-16T19:52:06.402205Z",
     "shell.execute_reply": "2023-03-16T19:52:06.401036Z",
     "shell.execute_reply.started": "2023-03-16T19:52:06.177671Z"
    }
   },
   "outputs": [
    {
     "data": {
      "text/plain": [
       "<AxesSubplot:xlabel='Embarked', ylabel='count'>"
      ]
     },
     "execution_count": 9,
     "metadata": {},
     "output_type": "execute_result"
    },
    {
     "data": {
      "image/png": "[encoded data removed]",
      "text/plain": [
       "<Figure size 432x288 with 1 Axes>"
      ]
     },
     "metadata": {
      "needs_background": "light"
     },
     "output_type": "display_data"
    }
   ],
   "source": [
    "sns.countplot(x='Embarked', data=train_df, hue='Survived')"
   ]
  },
  {
   "cell_type": "code",
   "execution_count": 10,
   "metadata": {
    "execution": {
     "iopub.execute_input": "2023-03-16T19:52:06.404673Z",
     "iopub.status.busy": "2023-03-16T19:52:06.403964Z",
     "iopub.status.idle": "2023-03-16T19:52:06.912929Z",
     "shell.execute_reply": "2023-03-16T19:52:06.911507Z",
     "shell.execute_reply.started": "2023-03-16T19:52:06.404627Z"
    }
   },
   "outputs": [
    {
     "data": {
      "text/plain": [
       "<seaborn.axisgrid.FacetGrid at 0x285b1d3db48>"
      ]
     },
     "execution_count": 10,
     "metadata": {},
     "output_type": "execute_result"
    },
    {
     "data": {
      "image/png": "[encoded data removed]",
      "text/plain": [
       "<Figure size 432x216 with 2 Axes>"
      ]
     },
     "metadata": {
      "needs_background": "light"
     },
     "output_type": "display_data"
    }
   ],
   "source": [
    "g = sns.FacetGrid(train_df, col='Survived')\n",
    "g.map(sns.histplot, 'Age')"
   ]
  },
  {
   "cell_type": "code",
   "execution_count": 11,
   "metadata": {
    "execution": {
     "iopub.execute_input": "2023-03-16T19:52:06.917305Z",
     "iopub.status.busy": "2023-03-16T19:52:06.916881Z",
     "iopub.status.idle": "2023-03-16T19:52:07.170983Z",
     "shell.execute_reply": "2023-03-16T19:52:07.169685Z",
     "shell.execute_reply.started": "2023-03-16T19:52:06.917256Z"
    }
   },
   "outputs": [
    {
     "data": {
      "text/plain": [
       "<matplotlib.legend.Legend at 0x285b1e93108>"
      ]
     },
     "execution_count": 11,
     "metadata": {},
     "output_type": "execute_result"
    },
    {
     "data": {
      "image/png": "[encoded data removed]",
      "text/plain": [
       "<Figure size 432x288 with 1 Axes>"
      ]
     },
     "metadata": {
      "needs_background": "light"
     },
     "output_type": "display_data"
    }
   ],
   "source": [
    "sns.countplot(x='Parch',data=train_df,hue='Survived')\n",
    "plt.legend(loc='upper right')"
   ]
  },
  {
   "cell_type": "code",
   "execution_count": 12,
   "metadata": {
    "execution": {
     "iopub.execute_input": "2023-03-16T19:52:07.172676Z",
     "iopub.status.busy": "2023-03-16T19:52:07.172245Z",
     "iopub.status.idle": "2023-03-16T19:52:07.472602Z",
     "shell.execute_reply": "2023-03-16T19:52:07.471363Z",
     "shell.execute_reply.started": "2023-03-16T19:52:07.172647Z"
    }
   },
   "outputs": [
    {
     "data": {
      "text/plain": [
       "<matplotlib.legend.Legend at 0x285b1ee1dc8>"
      ]
     },
     "execution_count": 12,
     "metadata": {},
     "output_type": "execute_result"
    },
    {
     "data": {
      "image/png": "[encoded data removed]",
      "text/plain": [
       "<Figure size 432x288 with 1 Axes>"
      ]
     },
     "metadata": {
      "needs_background": "light"
     },
     "output_type": "display_data"
    }
   ],
   "source": [
    "sns.countplot(x='SibSp',data=train_df,hue='Survived')\n",
    "plt.legend(loc='upper right')"
   ]
  },
  {
   "cell_type": "markdown",
   "metadata": {},
   "source": [
    "<a id=\"Feature-Engineering\"></a>\n",
    "#  Feature Engineering"
   ]
  },
  {
   "cell_type": "markdown",
   "metadata": {},
   "source": [
    "##  Missing Values"
   ]
  },
  {
   "cell_type": "code",
   "execution_count": 13,
   "metadata": {
    "execution": {
     "iopub.execute_input": "2023-03-16T19:52:07.474215Z",
     "iopub.status.busy": "2023-03-16T19:52:07.473882Z",
     "iopub.status.idle": "2023-03-16T19:52:07.484323Z",
     "shell.execute_reply": "2023-03-16T19:52:07.483363Z",
     "shell.execute_reply.started": "2023-03-16T19:52:07.474184Z"
    }
   },
   "outputs": [
    {
     "data": {
      "text/plain": [
       "Survived      0\n",
       "Pclass        0\n",
       "Name          0\n",
       "Sex           0\n",
       "Age         177\n",
       "SibSp         0\n",
       "Parch         0\n",
       "Ticket        0\n",
       "Fare          0\n",
       "Cabin       687\n",
       "Embarked      2\n",
       "dtype: int64"
      ]
     },
     "execution_count": 13,
     "metadata": {},
     "output_type": "execute_result"
    }
   ],
   "source": [
    "# check how many null values in each column\n",
    "train_df.isnull().sum()"
   ]
  },
  {
   "cell_type": "code",
   "execution_count": 14,
   "metadata": {
    "execution": {
     "iopub.execute_input": "2023-03-16T19:52:07.486623Z",
     "iopub.status.busy": "2023-03-16T19:52:07.485947Z",
     "iopub.status.idle": "2023-03-16T19:52:07.499373Z",
     "shell.execute_reply": "2023-03-16T19:52:07.498201Z",
     "shell.execute_reply.started": "2023-03-16T19:52:07.486585Z"
    }
   },
   "outputs": [
    {
     "data": {
      "text/plain": [
       "Pclass        0\n",
       "Name          0\n",
       "Sex           0\n",
       "Age          86\n",
       "SibSp         0\n",
       "Parch         0\n",
       "Ticket        0\n",
       "Fare          1\n",
       "Cabin       327\n",
       "Embarked      0\n",
       "dtype: int64"
      ]
     },
     "execution_count": 14,
     "metadata": {},
     "output_type": "execute_result"
    }
   ],
   "source": [
    "test_df.isnull().sum()"
   ]
  },
  {
   "cell_type": "code",
   "execution_count": 15,
   "metadata": {
    "execution": {
     "iopub.execute_input": "2023-03-16T19:52:07.502004Z",
     "iopub.status.busy": "2023-03-16T19:52:07.501320Z",
     "iopub.status.idle": "2023-03-16T19:52:07.513709Z",
     "shell.execute_reply": "2023-03-16T19:52:07.512755Z",
     "shell.execute_reply.started": "2023-03-16T19:52:07.501972Z"
    }
   },
   "outputs": [
    {
     "data": {
      "text/plain": [
       "Pclass\n",
       "1    38.233441\n",
       "2    29.877630\n",
       "3    25.140620\n",
       "Name: Age, dtype: float64"
      ]
     },
     "execution_count": 15,
     "metadata": {},
     "output_type": "execute_result"
    }
   ],
   "source": [
    "# find average age values by pclass\n",
    "train_df.groupby('Pclass').mean()['Age']"
   ]
  },
  {
   "cell_type": "code",
   "execution_count": 16,
   "metadata": {
    "execution": {
     "iopub.execute_input": "2023-03-16T19:52:07.515741Z",
     "iopub.status.busy": "2023-03-16T19:52:07.515364Z",
     "iopub.status.idle": "2023-03-16T19:52:07.547792Z",
     "shell.execute_reply": "2023-03-16T19:52:07.546829Z",
     "shell.execute_reply.started": "2023-03-16T19:52:07.515710Z"
    }
   },
   "outputs": [],
   "source": [
    "# create function that will convert null values to average age values depends on plcass\n",
    "def fill_age(age_pclass):\n",
    "    age = age_pclass[0]\n",
    "    pclass = age_pclass[1]\n",
    "    if pd.isna(age):\n",
    "        if pclass == 1:\n",
    "            return 38\n",
    "        elif pclass == 2:\n",
    "            return 30\n",
    "        elif pclass == 3:\n",
    "            return 25\n",
    "    else:\n",
    "        return age\n",
    "\n",
    "# apply function to Age column of train data to fill in null values\n",
    "train_df['Age'] = train_df[['Age', 'Pclass']].apply(fill_age, axis=1)\n",
    "test_df['Age'] = test_df[['Age', 'Pclass']].apply(fill_age, axis=1)"
   ]
  },
  {
   "cell_type": "code",
   "execution_count": 17,
   "metadata": {
    "execution": {
     "iopub.execute_input": "2023-03-16T19:52:07.549531Z",
     "iopub.status.busy": "2023-03-16T19:52:07.549187Z",
     "iopub.status.idle": "2023-03-16T19:52:07.565223Z",
     "shell.execute_reply": "2023-03-16T19:52:07.564129Z",
     "shell.execute_reply.started": "2023-03-16T19:52:07.549500Z"
    }
   },
   "outputs": [
    {
     "data": {
      "text/plain": [
       "B96 B98        4\n",
       "G6             4\n",
       "C23 C25 C27    4\n",
       "C22 C26        3\n",
       "F33            3\n",
       "              ..\n",
       "E34            1\n",
       "C7             1\n",
       "C54            1\n",
       "E36            1\n",
       "C148           1\n",
       "Name: Cabin, Length: 147, dtype: int64"
      ]
     },
     "execution_count": 17,
     "metadata": {},
     "output_type": "execute_result"
    }
   ],
   "source": [
    "# analyze values in cabin column\n",
    "train_df['Cabin'].value_counts()"
   ]
  },
  {
   "cell_type": "code",
   "execution_count": 18,
   "metadata": {
    "execution": {
     "iopub.execute_input": "2023-03-16T19:52:07.567911Z",
     "iopub.status.busy": "2023-03-16T19:52:07.567092Z",
     "iopub.status.idle": "2023-03-16T19:52:07.581383Z",
     "shell.execute_reply": "2023-03-16T19:52:07.580262Z",
     "shell.execute_reply.started": "2023-03-16T19:52:07.567864Z"
    }
   },
   "outputs": [],
   "source": [
    "# drop cabin column\n",
    "train_df.drop('Cabin', axis=1, inplace=True)\n",
    "test_df.drop('Cabin', axis=1, inplace=True)"
   ]
  },
  {
   "cell_type": "code",
   "execution_count": 19,
   "metadata": {
    "execution": {
     "iopub.execute_input": "2023-03-16T19:52:07.583678Z",
     "iopub.status.busy": "2023-03-16T19:52:07.582787Z",
     "iopub.status.idle": "2023-03-16T19:52:07.592750Z",
     "shell.execute_reply": "2023-03-16T19:52:07.591570Z",
     "shell.execute_reply.started": "2023-03-16T19:52:07.583633Z"
    }
   },
   "outputs": [],
   "source": [
    "# fill null values in Fare column in test data with mean value\n",
    "test_df['Fare'].fillna(train_df['Fare'].mean(), inplace=True)\n",
    "\n",
    "# fill null values in Embarked column in train data with mode value\n",
    "train_df['Embarked'].fillna(train_df['Embarked'].mode()[0][0], inplace=True)"
   ]
  },
  {
   "cell_type": "code",
   "execution_count": 20,
   "metadata": {
    "execution": {
     "iopub.execute_input": "2023-03-16T19:52:07.594852Z",
     "iopub.status.busy": "2023-03-16T19:52:07.594275Z",
     "iopub.status.idle": "2023-03-16T19:52:07.605609Z",
     "shell.execute_reply": "2023-03-16T19:52:07.604579Z",
     "shell.execute_reply.started": "2023-03-16T19:52:07.594790Z"
    }
   },
   "outputs": [
    {
     "data": {
      "text/plain": [
       "Survived    0\n",
       "Pclass      0\n",
       "Name        0\n",
       "Sex         0\n",
       "Age         0\n",
       "SibSp       0\n",
       "Parch       0\n",
       "Ticket      0\n",
       "Fare        0\n",
       "Embarked    0\n",
       "dtype: int64"
      ]
     },
     "execution_count": 20,
     "metadata": {},
     "output_type": "execute_result"
    }
   ],
   "source": [
    "# check if the column is all filled with values\n",
    "train_df.isnull().sum()"
   ]
  },
  {
   "cell_type": "code",
   "execution_count": 21,
   "metadata": {
    "execution": {
     "iopub.execute_input": "2023-03-16T19:52:07.607890Z",
     "iopub.status.busy": "2023-03-16T19:52:07.607320Z",
     "iopub.status.idle": "2023-03-16T19:52:07.618965Z",
     "shell.execute_reply": "2023-03-16T19:52:07.617882Z",
     "shell.execute_reply.started": "2023-03-16T19:52:07.607847Z"
    }
   },
   "outputs": [
    {
     "data": {
      "text/plain": [
       "Pclass      0\n",
       "Name        0\n",
       "Sex         0\n",
       "Age         0\n",
       "SibSp       0\n",
       "Parch       0\n",
       "Ticket      0\n",
       "Fare        0\n",
       "Embarked    0\n",
       "dtype: int64"
      ]
     },
     "execution_count": 21,
     "metadata": {},
     "output_type": "execute_result"
    }
   ],
   "source": [
    "test_df.isnull().sum()"
   ]
  },
  {
   "cell_type": "markdown",
   "metadata": {},
   "source": [
    "## Drop Irrelevant Features"
   ]
  },
  {
   "cell_type": "code",
   "execution_count": 22,
   "metadata": {
    "execution": {
     "iopub.execute_input": "2023-03-16T19:52:07.621791Z",
     "iopub.status.busy": "2023-03-16T19:52:07.621181Z",
     "iopub.status.idle": "2023-03-16T19:52:07.629974Z",
     "shell.execute_reply": "2023-03-16T19:52:07.628498Z",
     "shell.execute_reply.started": "2023-03-16T19:52:07.621737Z"
    }
   },
   "outputs": [],
   "source": [
    "# drop columns that are not effective on survival\n",
    "train_df.drop(['Name','Ticket'], axis=1, inplace=True)\n",
    "test_df.drop(['Name','Ticket'], axis=1, inplace=True)"
   ]
  },
  {
   "cell_type": "markdown",
   "metadata": {},
   "source": [
    "## Categorical Features"
   ]
  },
  {
   "cell_type": "code",
   "execution_count": 23,
   "metadata": {
    "execution": {
     "iopub.execute_input": "2023-03-16T19:52:07.634361Z",
     "iopub.status.busy": "2023-03-16T19:52:07.633164Z",
     "iopub.status.idle": "2023-03-16T19:52:07.655165Z",
     "shell.execute_reply": "2023-03-16T19:52:07.653879Z",
     "shell.execute_reply.started": "2023-03-16T19:52:07.634311Z"
    }
   },
   "outputs": [],
   "source": [
    "# convert categorical values to numerical values in 'Sex' and 'Embarked' columns\n",
    "train_df = pd.get_dummies(train_df,drop_first=True)\n",
    "test_df = pd.get_dummies(test_df,drop_first=True)"
   ]
  },
  {
   "cell_type": "markdown",
   "metadata": {},
   "source": [
    "## Final Data"
   ]
  },
  {
   "cell_type": "code",
   "execution_count": 24,
   "metadata": {
    "execution": {
     "iopub.execute_input": "2023-03-16T19:52:07.661764Z",
     "iopub.status.busy": "2023-03-16T19:52:07.661367Z",
     "iopub.status.idle": "2023-03-16T19:52:07.681636Z",
     "shell.execute_reply": "2023-03-16T19:52:07.680518Z",
     "shell.execute_reply.started": "2023-03-16T19:52:07.661719Z"
    }
   },
   "outputs": [
    {
     "data": {
      "text/html": [
       "<div>\n",
       "<style scoped>\n",
       "    .dataframe tbody tr th:only-of-type {\n",
       "        vertical-align: middle;\n",
       "    }\n",
       "\n",
       "    .dataframe tbody tr th {\n",
       "        vertical-align: top;\n",
       "    }\n",
       "\n",
       "    .dataframe thead th {\n",
       "        text-align: right;\n",
       "    }\n",
       "</style>\n",
       "<table border=\"1\" class=\"dataframe\">\n",
       "  <thead>\n",
       "    <tr style=\"text-align: right;\">\n",
       "      <th></th>\n",
       "      <th>Survived</th>\n",
       "      <th>Pclass</th>\n",
       "      <th>Age</th>\n",
       "      <th>SibSp</th>\n",
       "      <th>Parch</th>\n",
       "      <th>Fare</th>\n",
       "      <th>Sex_male</th>\n",
       "      <th>Embarked_Q</th>\n",
       "      <th>Embarked_S</th>\n",
       "    </tr>\n",
       "    <tr>\n",
       "      <th>PassengerId</th>\n",
       "      <th></th>\n",
       "      <th></th>\n",
       "      <th></th>\n",
       "      <th></th>\n",
       "      <th></th>\n",
       "      <th></th>\n",
       "      <th></th>\n",
       "      <th></th>\n",
       "      <th></th>\n",
       "    </tr>\n",
       "  </thead>\n",
       "  <tbody>\n",
       "    <tr>\n",
       "      <th>837</th>\n",
       "      <td>0</td>\n",
       "      <td>3</td>\n",
       "      <td>21.0</td>\n",
       "      <td>0</td>\n",
       "      <td>0</td>\n",
       "      <td>8.6625</td>\n",
       "      <td>1</td>\n",
       "      <td>0</td>\n",
       "      <td>1</td>\n",
       "    </tr>\n",
       "    <tr>\n",
       "      <th>455</th>\n",
       "      <td>0</td>\n",
       "      <td>3</td>\n",
       "      <td>25.0</td>\n",
       "      <td>0</td>\n",
       "      <td>0</td>\n",
       "      <td>8.0500</td>\n",
       "      <td>1</td>\n",
       "      <td>0</td>\n",
       "      <td>1</td>\n",
       "    </tr>\n",
       "    <tr>\n",
       "      <th>874</th>\n",
       "      <td>0</td>\n",
       "      <td>3</td>\n",
       "      <td>47.0</td>\n",
       "      <td>0</td>\n",
       "      <td>0</td>\n",
       "      <td>9.0000</td>\n",
       "      <td>1</td>\n",
       "      <td>0</td>\n",
       "      <td>1</td>\n",
       "    </tr>\n",
       "    <tr>\n",
       "      <th>142</th>\n",
       "      <td>1</td>\n",
       "      <td>3</td>\n",
       "      <td>22.0</td>\n",
       "      <td>0</td>\n",
       "      <td>0</td>\n",
       "      <td>7.7500</td>\n",
       "      <td>0</td>\n",
       "      <td>0</td>\n",
       "      <td>1</td>\n",
       "    </tr>\n",
       "    <tr>\n",
       "      <th>574</th>\n",
       "      <td>1</td>\n",
       "      <td>3</td>\n",
       "      <td>25.0</td>\n",
       "      <td>0</td>\n",
       "      <td>0</td>\n",
       "      <td>7.7500</td>\n",
       "      <td>0</td>\n",
       "      <td>1</td>\n",
       "      <td>0</td>\n",
       "    </tr>\n",
       "    <tr>\n",
       "      <th>575</th>\n",
       "      <td>0</td>\n",
       "      <td>3</td>\n",
       "      <td>16.0</td>\n",
       "      <td>0</td>\n",
       "      <td>0</td>\n",
       "      <td>8.0500</td>\n",
       "      <td>1</td>\n",
       "      <td>0</td>\n",
       "      <td>1</td>\n",
       "    </tr>\n",
       "    <tr>\n",
       "      <th>860</th>\n",
       "      <td>0</td>\n",
       "      <td>3</td>\n",
       "      <td>25.0</td>\n",
       "      <td>0</td>\n",
       "      <td>0</td>\n",
       "      <td>7.2292</td>\n",
       "      <td>1</td>\n",
       "      <td>0</td>\n",
       "      <td>0</td>\n",
       "    </tr>\n",
       "    <tr>\n",
       "      <th>872</th>\n",
       "      <td>1</td>\n",
       "      <td>1</td>\n",
       "      <td>47.0</td>\n",
       "      <td>1</td>\n",
       "      <td>1</td>\n",
       "      <td>52.5542</td>\n",
       "      <td>0</td>\n",
       "      <td>0</td>\n",
       "      <td>1</td>\n",
       "    </tr>\n",
       "    <tr>\n",
       "      <th>358</th>\n",
       "      <td>0</td>\n",
       "      <td>2</td>\n",
       "      <td>38.0</td>\n",
       "      <td>0</td>\n",
       "      <td>0</td>\n",
       "      <td>13.0000</td>\n",
       "      <td>0</td>\n",
       "      <td>0</td>\n",
       "      <td>1</td>\n",
       "    </tr>\n",
       "    <tr>\n",
       "      <th>698</th>\n",
       "      <td>1</td>\n",
       "      <td>3</td>\n",
       "      <td>25.0</td>\n",
       "      <td>0</td>\n",
       "      <td>0</td>\n",
       "      <td>7.7333</td>\n",
       "      <td>0</td>\n",
       "      <td>1</td>\n",
       "      <td>0</td>\n",
       "    </tr>\n",
       "  </tbody>\n",
       "</table>\n",
       "</div>"
      ],
      "text/plain": [
       "             Survived  Pclass   Age  SibSp  Parch     Fare  Sex_male  \\\n",
       "PassengerId                                                            \n",
       "837                 0       3  21.0      0      0   8.6625         1   \n",
       "455                 0       3  25.0      0      0   8.0500         1   \n",
       "874                 0       3  47.0      0      0   9.0000         1   \n",
       "142                 1       3  22.0      0      0   7.7500         0   \n",
       "574                 1       3  25.0      0      0   7.7500         0   \n",
       "575                 0       3  16.0      0      0   8.0500         1   \n",
       "860                 0       3  25.0      0      0   7.2292         1   \n",
       "872                 1       1  47.0      1      1  52.5542         0   \n",
       "358                 0       2  38.0      0      0  13.0000         0   \n",
       "698                 1       3  25.0      0      0   7.7333         0   \n",
       "\n",
       "             Embarked_Q  Embarked_S  \n",
       "PassengerId                          \n",
       "837                   0           1  \n",
       "455                   0           1  \n",
       "874                   0           1  \n",
       "142                   0           1  \n",
       "574                   1           0  \n",
       "575                   0           1  \n",
       "860                   0           0  \n",
       "872                   0           1  \n",
       "358                   0           1  \n",
       "698                   1           0  "
      ]
     },
     "execution_count": 24,
     "metadata": {},
     "output_type": "execute_result"
    }
   ],
   "source": [
    "train_df.sample(n=10)"
   ]
  },
  {
   "cell_type": "markdown",
   "metadata": {},
   "source": [
    "<a id=\"Training-and-Modeling\"></a>\n",
    "# Model Selection and Training"
   ]
  },
  {
   "cell_type": "code",
   "execution_count": 25,
   "metadata": {
    "execution": {
     "iopub.execute_input": "2023-03-16T19:52:07.683910Z",
     "iopub.status.busy": "2023-03-16T19:52:07.683173Z",
     "iopub.status.idle": "2023-03-16T19:52:07.690997Z",
     "shell.execute_reply": "2023-03-16T19:52:07.689521Z",
     "shell.execute_reply.started": "2023-03-16T19:52:07.683872Z"
    }
   },
   "outputs": [],
   "source": [
    "# check X dataframe\n",
    "X = train_df.drop('Survived', axis=1)"
   ]
  },
  {
   "cell_type": "code",
   "execution_count": 26,
   "metadata": {
    "execution": {
     "iopub.execute_input": "2023-03-16T19:52:07.693377Z",
     "iopub.status.busy": "2023-03-16T19:52:07.692425Z",
     "iopub.status.idle": "2023-03-16T19:52:07.701152Z",
     "shell.execute_reply": "2023-03-16T19:52:07.699777Z",
     "shell.execute_reply.started": "2023-03-16T19:52:07.693311Z"
    }
   },
   "outputs": [],
   "source": [
    "# create y dataframe\n",
    "y = train_df['Survived']"
   ]
  },
  {
   "cell_type": "code",
   "execution_count": 27,
   "metadata": {
    "execution": {
     "iopub.execute_input": "2023-03-16T19:52:07.703555Z",
     "iopub.status.busy": "2023-03-16T19:52:07.703096Z",
     "iopub.status.idle": "2023-03-16T19:52:07.943126Z",
     "shell.execute_reply": "2023-03-16T19:52:07.941024Z",
     "shell.execute_reply.started": "2023-03-16T19:52:07.703424Z"
    }
   },
   "outputs": [],
   "source": [
    "from sklearn.model_selection import train_test_split"
   ]
  },
  {
   "cell_type": "code",
   "execution_count": 28,
   "metadata": {
    "execution": {
     "iopub.execute_input": "2023-03-16T19:52:07.945496Z",
     "iopub.status.busy": "2023-03-16T19:52:07.944524Z",
     "iopub.status.idle": "2023-03-16T19:52:07.952748Z",
     "shell.execute_reply": "2023-03-16T19:52:07.951622Z",
     "shell.execute_reply.started": "2023-03-16T19:52:07.945457Z"
    }
   },
   "outputs": [],
   "source": [
    "# separate into training set and testing set\n",
    "X_train, X_test, y_train, y_test = train_test_split(X, y)"
   ]
  },
  {
   "cell_type": "code",
   "execution_count": 29,
   "metadata": {
    "execution": {
     "iopub.execute_input": "2023-03-16T19:52:07.954584Z",
     "iopub.status.busy": "2023-03-16T19:52:07.954256Z",
     "iopub.status.idle": "2023-03-16T19:52:08.179711Z",
     "shell.execute_reply": "2023-03-16T19:52:08.178295Z",
     "shell.execute_reply.started": "2023-03-16T19:52:07.954554Z"
    }
   },
   "outputs": [],
   "source": [
    "from sklearn.linear_model import LogisticRegression\n",
    "from sklearn.neighbors import KNeighborsClassifier\n",
    "from sklearn.svm import SVC\n",
    "from sklearn.ensemble import RandomForestClassifier\n",
    "\n",
    "from sklearn.model_selection import GridSearchCV\n",
    "\n",
    "from sklearn.metrics import classification_report, accuracy_score\n",
    "\n",
    "import warnings \n",
    "warnings.filterwarnings(\"ignore\")"
   ]
  },
  {
   "cell_type": "code",
   "execution_count": 30,
   "metadata": {
    "execution": {
     "iopub.execute_input": "2023-03-16T19:52:08.181751Z",
     "iopub.status.busy": "2023-03-16T19:52:08.181437Z",
     "iopub.status.idle": "2023-03-16T19:52:08.197807Z",
     "shell.execute_reply": "2023-03-16T19:52:08.195654Z",
     "shell.execute_reply.started": "2023-03-16T19:52:08.181721Z"
    }
   },
   "outputs": [],
   "source": [
    "# define models and parameters\n",
    "logistic_model = LogisticRegression()\n",
    "logistic_grid = {\n",
    "    'solver' : ['lbfgs','newton-cg', 'sag', 'saga'],\n",
    "    'penalty' : ['l1', 'l2', 'elasticnet', None],\n",
    "    'C' : [100, 10, 1.0, 0.1, 0.01],\n",
    "}\n",
    "\n",
    "KNN_model = KNeighborsClassifier()\n",
    "KNN_grid = {\n",
    "    'n_neighbors' : range(1,21,2),\n",
    "    'weights' : ['uniform','distance'],\n",
    "    'p' : np.arange(1,2,0.10)\n",
    "} \n",
    "\n",
    "SVM_model = SVC()\n",
    "SVM_grid = {\n",
    "    'kernel' : ['linear', 'poly', 'rbf', 'sigmoid'],\n",
    "    'C' : [0.01, 0.1, 1, 10, 100],\n",
    "    'gamma' : ['scale', 0.01, 0.03, 0.1, 0.3, 1.0, 3.0]\n",
    "}\n",
    "\n",
    "RF_model = RandomForestClassifier()\n",
    "RF_grid = {\n",
    "    'n_estimators' : [25, 50, 100, 150],\n",
    "    'max_features' :  ['sqrt', 'log2', None],\n",
    "    'max_depth' : [3, 6, 9],\n",
    "    'max_leaf_nodes' : [3, 6, 9]\n",
    "}\n",
    "\n",
    "\n",
    "lst = [(logistic_model, logistic_grid),\n",
    "       (KNN_model, KNN_grid),\n",
    "       (RF_model, RF_grid)]\n"
   ]
  },
  {
   "cell_type": "code",
   "execution_count": 31,
   "metadata": {
    "execution": {
     "iopub.execute_input": "2023-03-16T19:52:08.199646Z",
     "iopub.status.busy": "2023-03-16T19:52:08.199288Z",
     "iopub.status.idle": "2023-03-16T19:53:38.117292Z",
     "shell.execute_reply": "2023-03-16T19:53:38.116010Z",
     "shell.execute_reply.started": "2023-03-16T19:52:08.199607Z"
    }
   },
   "outputs": [
    {
     "name": "stdout",
     "output_type": "stream",
     "text": [
      "Best score on Gridsearch:  0.800998765570643\n",
      "Using:  LogisticRegression(C=0.1)\n",
      "\n",
      "\n",
      "              precision    recall  f1-score   support\n",
      "\n",
      "           0       0.92      0.84      0.88       159\n",
      "           1       0.68      0.81      0.74        64\n",
      "\n",
      "    accuracy                           0.83       223\n",
      "   macro avg       0.80      0.83      0.81       223\n",
      "weighted avg       0.85      0.83      0.84       223\n",
      "\n",
      "Accuracy Score:  0.8340807174887892\n",
      "--------------------------------------------------------------------------------\n",
      "Best score on Gridsearch:  0.7470317585007293\n",
      "Using:  KNeighborsClassifier(n_neighbors=17, p=1.0, weights='distance')\n",
      "\n",
      "\n",
      "              precision    recall  f1-score   support\n",
      "\n",
      "           0       0.77      0.79      0.78       143\n",
      "           1       0.61      0.59      0.60        80\n",
      "\n",
      "    accuracy                           0.72       223\n",
      "   macro avg       0.69      0.69      0.69       223\n",
      "weighted avg       0.72      0.72      0.72       223\n",
      "\n",
      "Accuracy Score:  0.7174887892376681\n",
      "--------------------------------------------------------------------------------\n",
      "Best score on Gridsearch:  0.8114577488497364\n",
      "Using:  RandomForestClassifier(max_depth=9, max_features='log2', max_leaf_nodes=9,\n",
      "                       n_estimators=25)\n",
      "\n",
      "\n",
      "              precision    recall  f1-score   support\n",
      "\n",
      "           0       0.96      0.82      0.88       171\n",
      "           1       0.60      0.88      0.71        52\n",
      "\n",
      "    accuracy                           0.83       223\n",
      "   macro avg       0.78      0.85      0.80       223\n",
      "weighted avg       0.87      0.83      0.84       223\n",
      "\n",
      "Accuracy Score:  0.8340807174887892\n",
      "--------------------------------------------------------------------------------\n"
     ]
    }
   ],
   "source": [
    "# results\n",
    "for model, grid in lst:\n",
    "    # define grid search\n",
    "    grid_search = GridSearchCV(estimator=model, param_grid=grid, scoring='accuracy')\n",
    "    grid_result = grid_search.fit(X_train, y_train)\n",
    "    estimator = grid_result.best_estimator_\n",
    "    predictions = estimator.predict(X_test)\n",
    "    \n",
    "    # print out best score and best estimator ofr the model\n",
    "    print('Best score on Gridsearch: ', grid_result.best_score_)\n",
    "    print('Using: ', estimator)\n",
    "    print('\\n')\n",
    "    \n",
    "    # print out classification report on test data for each model\n",
    "    print(classification_report(predictions, y_test))\n",
    "    print('Accuracy Score: ', accuracy_score(predictions, y_test))\n",
    "    print('--'*40)\n",
    "    "
   ]
  },
  {
   "cell_type": "markdown",
   "metadata": {},
   "source": [
    "<a id=\"Prediction\"></a>\n",
    "# Prediction"
   ]
  },
  {
   "cell_type": "code",
   "execution_count": 32,
   "metadata": {
    "execution": {
     "iopub.execute_input": "2023-03-16T19:53:38.119207Z",
     "iopub.status.busy": "2023-03-16T19:53:38.118768Z",
     "iopub.status.idle": "2023-03-16T19:53:38.246200Z",
     "shell.execute_reply": "2023-03-16T19:53:38.245186Z",
     "shell.execute_reply.started": "2023-03-16T19:53:38.119173Z"
    }
   },
   "outputs": [],
   "source": [
    "# select a model with highest accuracy score\n",
    "final_model = RandomForestClassifier(max_depth=6, max_features=None, max_leaf_nodes=9, n_estimators=50)\n",
    "final_model.fit(X_train,y_train)\n",
    "final_prediction = final_model.predict(test_df)"
   ]
  },
  {
   "cell_type": "code",
   "execution_count": 34,
   "metadata": {
    "execution": {
     "iopub.execute_input": "2023-03-16T19:53:38.247977Z",
     "iopub.status.busy": "2023-03-16T19:53:38.247463Z",
     "iopub.status.idle": "2023-03-16T19:53:38.266370Z",
     "shell.execute_reply": "2023-03-16T19:53:38.264949Z",
     "shell.execute_reply.started": "2023-03-16T19:53:38.247945Z"
    }
   },
   "outputs": [],
   "source": [
    "# convert prediction into dataframe\n",
    "# index = pd.read_csv('/kaggle/input/titanic/test.csv')['PassengerId']\n",
    "# outcome_df = pd.DataFrame({\"PassengerId\": index,\"Survived\": final_prediction})\n",
    "\n",
    "# # export as csv file\n",
    "# outcome_df.to_csv(\"submission.csv\",index = False)"
   ]
  }
 ],
 "metadata": {
  "kernelspec": {
   "display_name": "Python 3",
   "language": "python",
   "name": "python3"
  },
  "language_info": {
   "codemirror_mode": {
    "name": "ipython",
    "version": 3
   },
   "file_extension": ".py",
   "mimetype": "text/x-python",
   "name": "python",
   "nbconvert_exporter": "python",
   "pygments_lexer": "ipython3",
   "version": "3.7.9"
  }
 },
 "nbformat": 4,
 "nbformat_minor": 4
}
